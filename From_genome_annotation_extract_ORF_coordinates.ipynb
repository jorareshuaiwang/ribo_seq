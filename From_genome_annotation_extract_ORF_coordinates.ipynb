{
 "cells": [
  {
   "cell_type": "code",
   "execution_count": 18,
   "metadata": {},
   "outputs": [],
   "source": [
    "#From NCBI whole genome annotation to extract ORF start and stop nt coordinate, with annotation on strand direction\n",
    "\n",
    "#remove lines for sequence\n",
    "f=open('/Users/ShuaiWang/Desktop/Shan_Lab/Ribo_seq/03172018/standard_genome/ORF/K12ORF.txt','r')\n",
    "f1=open('/Users/ShuaiWang/Desktop/Shan_Lab/Ribo_seq/03172018/standard_genome/ORF/K12ORF_onlyORFline.txt','w')\n",
    "f_list=f.readlines()\n",
    "for i,line in enumerate(f_list):\n",
    "    if line[:4]=='>lcl':\n",
    "        f1.write(line)\n",
    "f2=open('/Users/ShuaiWang/Desktop/Shan_Lab/Ribo_seq/03172018/standard_genome/ORF/K12ORF_onlyORFline.txt','r')\n",
    "f3=open('/Users/ShuaiWang/Desktop/Shan_Lab/Ribo_seq/03172018/standard_genome/ORF/K12ORF_ORF_location.txt','w')\n",
    "f4=open('/Users/ShuaiWang/Desktop/Shan_Lab/Ribo_seq/03172018/standard_genome/ORF/K12ORF_ORF_location.txt','r')\n",
    "f_p=open('/Users/ShuaiWang/Desktop/Shan_Lab/Ribo_seq/03172018/standard_genome/ORF/K12ORF_ORF_plus.txt','w')\n",
    "f_m=open('/Users/ShuaiWang/Desktop/Shan_Lab/Ribo_seq/03172018/standard_genome/ORF/K12ORF_ORF_minus.txt','w')\n",
    "\n",
    "#save information about gene name and location\n",
    "f2_list=f2.readlines()      \n",
    "for i,line in enumerate(f2_list):\n",
    "    fields=line.split()\n",
    "    for j,col in enumerate(fields):\n",
    "        if col[:6]=='[gene=':\n",
    "            f3.write(col[6:-1] + ' ')\n",
    "        if col[:10]=='[location=':\n",
    "            f3.write(col[10:-1])\n",
    "            f3.write('\\n')\n",
    "\n",
    "f4_list=f4.readlines()\n",
    "for i,line in enumerate(f4_list):\n",
    "    if 'compl' in line:\n",
    "        f_m.write(line)\n",
    "    else:\n",
    "        f_p.write(line)\n",
    "\n",
    "#parse plus and minus strand information     \n",
    "f_p=open('/Users/ShuaiWang/Desktop/Shan_Lab/Ribo_seq/03172018/standard_genome/ORF/K12ORF_ORF_plus.txt','r')\n",
    "f_m=open('/Users/ShuaiWang/Desktop/Shan_Lab/Ribo_seq/03172018/standard_genome/ORF/K12ORF_ORF_minus.txt','r')\n",
    "f_p_parsed=open('/Users/ShuaiWang/Desktop/Shan_Lab/Ribo_seq/03172018/standard_genome/ORF/K12ORF_ORF_plusparsed.txt', 'w')\n",
    "f_m_parsed=open('/Users/ShuaiWang/Desktop/Shan_Lab/Ribo_seq/03172018/standard_genome/ORF/K12ORF_ORF_minusparsed.txt', 'w')\n",
    "    \n",
    "f_p_str=f_p.read()\n",
    "f_m_str=f_m.read()\n",
    "\n",
    "p_step1=f_p_str.replace('..',' ')\n",
    "p_step2=p_step1.replace('\\n',' + \\n')\n",
    "\n",
    "m_step1=f_m_str.replace('..',' ')\n",
    "m_step2=m_step1.replace(')\\n',' - \\n')\n",
    "m_step3=m_step2.replace('complement(','')\n",
    "\n",
    "f_p_parsed.write(p_step2)\n",
    "f_m_parsed.write(m_step3)\n",
    "\n",
    "#export strand information\n",
    "f5=open('/Users/ShuaiWang/Desktop/Shan_Lab/Ribo_seq/03172018/standard_genome/ORF/K12ORF_ORF_plusparsed.txt','r')\n",
    "f6=open('/Users/ShuaiWang/Desktop/Shan_Lab/Ribo_seq/03172018/standard_genome/ORF/K12ORF_ORF_minusparsed.txt','r')\n",
    "f_plus=open('/Users/ShuaiWang/Desktop/Shan_Lab/Ribo_seq/03172018/standard_genome/ORF/K12ORF_coordinate_plus.csv','w')\n",
    "f_minus=open('/Users/ShuaiWang/Desktop/Shan_Lab/Ribo_seq/03172018/standard_genome/ORF/K12ORF_coordinate_minus.csv','w')\n",
    "f5_list=f5.readlines()  \n",
    "f6_list=f6.readlines() \n",
    "for i,line in enumerate(f5_list):\n",
    "    f_plus.write(line)\n",
    "\n",
    "for i,line in enumerate(f6_list):\n",
    "    f_minus.write(line)\n"
   ]
  },
  {
   "cell_type": "code",
   "execution_count": 19,
   "metadata": {},
   "outputs": [
    {
     "data": {
      "text/plain": [
       "4337"
      ]
     },
     "execution_count": 19,
     "metadata": {},
     "output_type": "execute_result"
    }
   ],
   "source": [
    "f3=open('/Users/ShuaiWang/Desktop/Shan_Lab/Ribo_seq/03172018/standard_genome/ORF/K12ORF_ORF_location.txt','r')\n",
    "f3_list=f3.readlines()\n",
    "len(f3_list)\n",
    "\n"
   ]
  },
  {
   "cell_type": "code",
   "execution_count": 20,
   "metadata": {},
   "outputs": [],
   "source": [
    "f_p=open('/Users/ShuaiWang/Desktop/Shan_Lab/Ribo_seq/03172018/standard_genome/ORF/K12ORF_ORF_plus.txt','r')\n",
    "f_m=open('/Users/ShuaiWang/Desktop/Shan_Lab/Ribo_seq/03172018/standard_genome/ORF/K12ORF_ORF_minus.txt','r')\n",
    "f_p_list=f_p.readlines()\n",
    "f_m_list=f_m.readlines()"
   ]
  },
  {
   "cell_type": "code",
   "execution_count": 21,
   "metadata": {},
   "outputs": [
    {
     "data": {
      "text/plain": [
       "2159"
      ]
     },
     "execution_count": 21,
     "metadata": {},
     "output_type": "execute_result"
    }
   ],
   "source": [
    "len(f_p_list)"
   ]
  },
  {
   "cell_type": "code",
   "execution_count": 22,
   "metadata": {},
   "outputs": [
    {
     "data": {
      "text/plain": [
       "2178"
      ]
     },
     "execution_count": 22,
     "metadata": {},
     "output_type": "execute_result"
    }
   ],
   "source": [
    "len(f_m_list)"
   ]
  },
  {
   "cell_type": "code",
   "execution_count": 23,
   "metadata": {},
   "outputs": [
    {
     "data": {
      "text/plain": [
       "4337"
      ]
     },
     "execution_count": 23,
     "metadata": {},
     "output_type": "execute_result"
    }
   ],
   "source": [
    "f5=open('/Users/ShuaiWang/Desktop/Shan_Lab/Ribo_seq/03172018/standard_genome/ORF/K12ORF_ORF_plusparsed.txt','r')\n",
    "f6=open('/Users/ShuaiWang/Desktop/Shan_Lab/Ribo_seq/03172018/standard_genome/ORF/K12ORF_ORF_minusparsed.txt','r')\n",
    "f5_p_list=f5.readlines()\n",
    "f6_m_list=f6.readlines()\n",
    "len(f5_p_list)+len(f6_m_list)"
   ]
  },
  {
   "cell_type": "code",
   "execution_count": 24,
   "metadata": {},
   "outputs": [
    {
     "data": {
      "text/plain": [
       "4337"
      ]
     },
     "execution_count": 24,
     "metadata": {},
     "output_type": "execute_result"
    }
   ],
   "source": [
    "f_plus=open('/Users/ShuaiWang/Desktop/Shan_Lab/Ribo_seq/03172018/standard_genome/ORF/K12ORF_coordinate_plus.csv','r')\n",
    "f_minus=open('/Users/ShuaiWang/Desktop/Shan_Lab/Ribo_seq/03172018/standard_genome/ORF/K12ORF_coordinate_minus.csv','r')\n",
    "f_P=f_plus.readlines()\n",
    "f_M=f_minus.readlines()\n",
    "len(f_P)+len(f_M)"
   ]
  },
  {
   "cell_type": "code",
   "execution_count": null,
   "metadata": {},
   "outputs": [],
   "source": []
  }
 ],
 "metadata": {
  "kernelspec": {
   "display_name": "Python 3",
   "language": "python",
   "name": "python3"
  },
  "language_info": {
   "codemirror_mode": {
    "name": "ipython",
    "version": 3
   },
   "file_extension": ".py",
   "mimetype": "text/x-python",
   "name": "python",
   "nbconvert_exporter": "python",
   "pygments_lexer": "ipython3",
   "version": "3.6.4"
  }
 },
 "nbformat": 4,
 "nbformat_minor": 2
}
